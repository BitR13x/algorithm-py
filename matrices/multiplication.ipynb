{
 "cells": [
  {
   "cell_type": "code",
   "execution_count": 1,
   "metadata": {},
   "outputs": [
    {
     "name": "stdout",
     "output_type": "stream",
     "text": [
      "[[36, 35, 12], [0, 50, 0], [28, 48, 28]]\n"
     ]
    }
   ],
   "source": [
    "z1 = [\n",
    "    [ 9, 7, 3 ],\n",
    "    [ 0, 5, 5 ],\n",
    "    [ 4, 8, 4 ]\n",
    "    ]\n",
    "\n",
    "z2 = [\n",
    "    [ 4, 5, 4, 2 ],\n",
    "    [ 9, 10, 0, 5 ],\n",
    "    [ 7, 6, 7, 2 ]\n",
    "    ]\n",
    "\n",
    "def multiplyMatrix(matrix1: list[list[int]], matrix2: list[list[int]]) -> list[list[int]]:\n",
    "    result = []\n",
    "    for y1, y2 in zip(matrix1, matrix2):\n",
    "        result.append([a*b for a, b in zip(y1, y2)])\n",
    "    return result\n",
    "\n",
    "print(multiplyMatrix(z1, z2))"
   ]
  }
 ],
 "metadata": {
  "kernelspec": {
   "display_name": "Python 3",
   "language": "python",
   "name": "python3"
  },
  "language_info": {
   "codemirror_mode": {
    "name": "ipython",
    "version": 3
   },
   "file_extension": ".py",
   "mimetype": "text/x-python",
   "name": "python",
   "nbconvert_exporter": "python",
   "pygments_lexer": "ipython3",
   "version": "3.9.13"
  },
  "orig_nbformat": 4
 },
 "nbformat": 4,
 "nbformat_minor": 2
}
