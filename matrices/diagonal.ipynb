{
 "cells": [
  {
   "cell_type": "code",
   "execution_count": 3,
   "metadata": {},
   "outputs": [],
   "source": [
    "from random import randint\n",
    "def randomMatrix(y: int, x : int) -> list[list[int]]:\n",
    "    return [[ randint(-9000, 9000) for _ in range(x)] for _ in range(y)]\n",
    "matrix = randomMatrix(7, 7)\n",
    "\n",
    "def printOutMatrix(matrix):\n",
    "    for i in range(len(matrix)):\n",
    "        print(matrix[i])"
   ]
  },
  {
   "cell_type": "code",
   "execution_count": 42,
   "metadata": {},
   "outputs": [],
   "source": [
    "def left_diagonal(matrix: list[list[int]]) -> None:\n",
    "    for i in range(len(matrix)):\n",
    "        print(matrix[i][i], end=\" \")\n",
    "\n",
    "\n",
    "def reverse_left_diagonal(matrix: list[list[int]]) -> None:\n",
    "    for i in range(len(matrix)-1, -1, -1):\n",
    "        print(matrix[i][i], end=\" \")\n",
    "\n",
    "\n",
    "def right_diagonal(matrix: list[list[int]]) -> None:\n",
    "    x = len(matrix[0])\n",
    "    for i in range(len(matrix)):\n",
    "        print(matrix[i][x-i-1], end=\" \")\n",
    "\n",
    "\n",
    "def reverse_right_diagonal(matrix: list[list[int]]) -> None:\n",
    "    x = len(matrix[0])\n",
    "    for i in range(len(matrix), 0, -1):\n",
    "        print(matrix[i-1][x-i], end=\" \")\n",
    "\n",
    "\n",
    "def diagonalOrder(matrix, ROW, COL):\n",
    "    for line in range(1, (ROW + COL)):\n",
    "        start_col = max(0, line - ROW)\n",
    "        count = min(line, (COL - start_col), ROW)\n",
    "        for j in range(0, count):\n",
    "            print(matrix[min(ROW, line) - j - 1]\n",
    "                        [start_col + j], end=\"\\t\")\n",
    "        print()\n",
    "\n",
    "def diagonalOrder(matrix: list[list[int]]) -> None:\n",
    "    for d in range(len(matrix) + len(matrix[0]) - 1):\n",
    "        diagonal = []\n",
    "        for i in range(len(matrix)):\n",
    "            j = d - i\n",
    "            if j >= 0 and j < len(matrix[0]):\n",
    "                diagonal.append(matrix[i][j])\n",
    "        print(diagonal)\n",
    "  "
   ]
  },
  {
   "cell_type": "code",
   "execution_count": 44,
   "metadata": {},
   "outputs": [
    {
     "name": "stdout",
     "output_type": "stream",
     "text": [
      "[-2232, -3014, 4993, 5224, 6969, -4440, -962]\n",
      "[-6475, 4340, -6049, -650, 5927, 4898, 593]\n",
      "[578, 1759, -122, 4785, 2238, 2208, 2975]\n",
      "[-3051, -7401, -8601, 4254, -1905, 178, -6476]\n",
      "[774, 4352, -3701, -727, -4156, 1743, -2982]\n",
      "[-5049, -3128, -8975, -1808, 8361, -3593, 548]\n",
      "[-8940, 6901, 7429, 3640, 4670, 4150, 7569]\n"
     ]
    }
   ],
   "source": [
    "printOutMatrix(matrix)"
   ]
  },
  {
   "cell_type": "code",
   "execution_count": 45,
   "metadata": {},
   "outputs": [
    {
     "name": "stdout",
     "output_type": "stream",
     "text": [
      "[-2232]\n",
      "[-3014, -6475]\n",
      "[4993, 4340, 578]\n",
      "[5224, -6049, 1759, -3051]\n",
      "[6969, -650, -122, -7401, 774]\n",
      "[-4440, 5927, 4785, -8601, 4352, -5049]\n",
      "[-962, 4898, 2238, 4254, -3701, -3128, -8940]\n",
      "[593, 2208, -1905, -727, -8975, 6901]\n",
      "[2975, 178, -4156, -1808, 7429]\n",
      "[-6476, 1743, 8361, 3640]\n",
      "[-2982, -3593, 4670]\n",
      "[548, 4150]\n",
      "[7569]\n"
     ]
    }
   ],
   "source": [
    "diagonalOrder(matrix)"
   ]
  },
  {
   "cell_type": "code",
   "execution_count": 46,
   "metadata": {},
   "outputs": [
    {
     "name": "stdout",
     "output_type": "stream",
     "text": [
      "-8940 -3128 -3701 4254 2238 4898 -962 \n",
      "7569 -3593 -4156 4254 -122 4340 -2232 "
     ]
    }
   ],
   "source": [
    "reverse_right_diagonal(matrix)\n",
    "print()\n",
    "reverse_left_diagonal(matrix)"
   ]
  }
 ],
 "metadata": {
  "kernelspec": {
   "display_name": "Python 3",
   "language": "python",
   "name": "python3"
  },
  "language_info": {
   "codemirror_mode": {
    "name": "ipython",
    "version": 3
   },
   "file_extension": ".py",
   "mimetype": "text/x-python",
   "name": "python",
   "nbconvert_exporter": "python",
   "pygments_lexer": "ipython3",
   "version": "3.9.13"
  },
  "orig_nbformat": 4
 },
 "nbformat": 4,
 "nbformat_minor": 2
}
