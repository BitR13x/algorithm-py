{
 "cells": [
  {
   "cell_type": "code",
   "execution_count": 2,
   "metadata": {},
   "outputs": [],
   "source": [
    "class Node():\n",
    "    def __init__(self) -> None:\n",
    "        self.children = [None for _ in range(26)]\n",
    "        self.isEndOfWord = False"
   ]
  },
  {
   "attachments": {},
   "cell_type": "markdown",
   "metadata": {},
   "source": [
    " tree-like data structure that is used to efficiently store and retrieve strings or sequences of characters. Each node in the trie represents a single character in a string, and the edges represent the connections between the characters.\n",
    " \n",
    " By storing the strings in a trie, it is possible to search for a string, insert a new string, or delete a string in time proportional to the length of the string, rather than the size of the entire collection of strings.\n",
    " \n",
    " Tries are commonly used in computer science applications such as spell-checking, autocompletion, and routing algorithms."
   ]
  },
  {
   "cell_type": "code",
   "execution_count": 5,
   "metadata": {},
   "outputs": [],
   "source": [
    "class Trie:\n",
    "    def __init__(self) -> None:\n",
    "        self.root = self.getNode()\n",
    "\n",
    "    def getNode(self) -> Node:\n",
    "        return Node()\n",
    "\n",
    "    def getIndexOfChar(self, ch) -> int:\n",
    "        return ord(ch)-ord(\"a\")\n",
    "    \n",
    "    def insert(self, key: str):\n",
    "        current = self.root\n",
    "        n = len(key)\n",
    "        for i in range(n):\n",
    "            index = self.getIndexOfChar(key[i])\n",
    "\n",
    "            # character is not present\n",
    "            if not current.children[index]:\n",
    "                current.children[index] = self.getNode()\n",
    "            current = current.children[index]\n",
    "\n",
    "        current.isEndOfWord = True\n",
    "\n",
    "    def search(self, key: str):\n",
    "        current = self.root\n",
    "        n = len(key)\n",
    "        for i in range(n):\n",
    "            index = self.getIndexOfChar(key[i])\n",
    "            if not current.children[index]:\n",
    "                return False\n",
    "            current = current.children[index]\n",
    " \n",
    "        return current.isEndOfWord"
   ]
  },
  {
   "cell_type": "code",
   "execution_count": 10,
   "metadata": {},
   "outputs": [
    {
     "name": "stdout",
     "output_type": "stream",
     "text": [
      "True\n",
      "False\n"
     ]
    }
   ],
   "source": [
    "t = Trie()\n",
    "strings = [\"Hi\", \"Welcome\", \"Hello\", \"Goodbye\"]\n",
    "for string in strings:\n",
    "    t.insert(string)\n",
    "\n",
    "print(t.search(\"Hi\"))\n",
    "print(t.search(\"idk\"))"
   ]
  }
 ],
 "metadata": {
  "kernelspec": {
   "display_name": "Python 3",
   "language": "python",
   "name": "python3"
  },
  "language_info": {
   "codemirror_mode": {
    "name": "ipython",
    "version": 3
   },
   "file_extension": ".py",
   "mimetype": "text/x-python",
   "name": "python",
   "nbconvert_exporter": "python",
   "pygments_lexer": "ipython3",
   "version": "3.9.13"
  },
  "orig_nbformat": 4
 },
 "nbformat": 4,
 "nbformat_minor": 2
}
