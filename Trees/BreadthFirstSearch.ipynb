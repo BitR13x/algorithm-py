{
 "cells": [
  {
   "attachments": {},
   "cell_type": "markdown",
   "metadata": {},
   "source": [
    "### Here's how BFS works:\n",
    "\n",
    "* 1. Add the starting node to a queue.\n",
    "* 2. Mark the starting node as visited.\n",
    "* 3. While the queue is not empty:\n",
    "    * a. Dequeue a node from the queue.\n",
    "    * b. If the dequeued node is the goal node, return the result and exit.\n",
    "    * c. Else, add all the unvisited neighboring nodes to the queue and mark them as visited.\n",
    "* 4. If the goal node is not found, exit with failure."
   ]
  },
  {
   "cell_type": "code",
   "execution_count": null,
   "metadata": {},
   "outputs": [],
   "source": [
    "def breadthFirstSearch(root):\n",
    "    queue = [root] if root else []\n",
    "    while queue:\n",
    "        m = queue.pop()\n",
    "        print(m.data, end=\" \")\n",
    "        if m.left:\n",
    "            queue.insert(0, m.left)\n",
    "        if m.right:\n",
    "            queue.insert(0, m.right)"
   ]
  }
 ],
 "metadata": {
  "kernelspec": {
   "display_name": "Python 3",
   "language": "python",
   "name": "python3"
  },
  "language_info": {
   "name": "python",
   "version": "3.9.13"
  },
  "orig_nbformat": 4,
  "vscode": {
   "interpreter": {
    "hash": "0c5ab5b7dd28a9699fdc040a259e90886b29cf61f0f6cfd5f29670318f0516d6"
   }
  }
 },
 "nbformat": 4,
 "nbformat_minor": 2
}
