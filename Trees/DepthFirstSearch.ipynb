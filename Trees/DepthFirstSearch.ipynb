{
 "cells": [
  {
   "attachments": {},
   "cell_type": "markdown",
   "metadata": {},
   "source": [
    "### The DFS algorithm works as follows:\n",
    "* 1. Start at the root node of the tree.\n",
    "* 2. Visit the root node and mark it as visited.\n",
    "* 3. If the current node has unvisited children, choose one of them and visit it. Mark it as visited.\n",
    "* 4. If the current node has no unvisited children, backtrack to the previous node and continue from there.\n",
    "* 5. Repeat steps 3 and 4 until all nodes have been visited.\n",
    "\n",
    "\n",
    "can be implemented recursively or iteratively using a stack data structure. In the recursive implementation, the function calls itself on each child node until there are no more children to visit. In the iterative implementation, the nodes are stored in a stack and popped off one by one until there are no more nodes to visit."
   ]
  },
  {
   "cell_type": "code",
   "execution_count": 1,
   "metadata": {},
   "outputs": [],
   "source": [
    "def depthFirstSearch(root):\n",
    "    \"\"\"Inorder Traversal\"\"\"\n",
    "    if root:\n",
    "        # First recur on left child\n",
    "        depthFirstSearch(root.left)\n",
    "        # then print the data of node\n",
    "        print(root.val),\n",
    "        # now recur on right child\n",
    "        depthFirstSearch(root.right)\n",
    " "
   ]
  },
  {
   "cell_type": "code",
   "execution_count": 2,
   "metadata": {},
   "outputs": [],
   "source": [
    "def depthFirstSearch(root):\n",
    "    \"\"\"Preorder Traversal\"\"\"\n",
    "    if root:\n",
    "        # First print the data of node\n",
    "        print(root.val),\n",
    "        # Then recur on left child\n",
    "        depthFirstSearch(root.left)\n",
    "        # Finally recur on right child\n",
    "        depthFirstSearch(root.right)\n",
    " "
   ]
  },
  {
   "cell_type": "code",
   "execution_count": null,
   "metadata": {},
   "outputs": [],
   "source": [
    "def depthFirstSearch(root):\n",
    "    \"\"\"Postorder Traversal\"\"\"\n",
    "    if root:\n",
    "        # First recur on left child\n",
    "        depthFirstSearch(root.left)\n",
    "        # the recur on right child\n",
    "        depthFirstSearch(root.right)\n",
    "        # now print the data of node\n",
    "        print(root.val),"
   ]
  },
  {
   "attachments": {},
   "cell_type": "markdown",
   "metadata": {},
   "source": [
    "Preorder traversal of tree:\n",
    "-> 1 2 4 5 3 \n",
    "Inorder traversal of tree:\n",
    "-> 4 2 5 1 3 \n",
    "Postorder traversal of tree:\n",
    "-> 4 5 2 3 1 "
   ]
  },
  {
   "attachments": {},
   "cell_type": "markdown",
   "metadata": {},
   "source": [
    "Example of Tree:\n",
    "      1\n",
    "     / \\\n",
    "    2   3\n",
    "   / \\\n",
    "  4   5"
   ]
  }
 ],
 "metadata": {
  "kernelspec": {
   "display_name": "Python 3",
   "language": "python",
   "name": "python3"
  },
  "language_info": {
   "codemirror_mode": {
    "name": "ipython",
    "version": 3
   },
   "file_extension": ".py",
   "mimetype": "text/x-python",
   "name": "python",
   "nbconvert_exporter": "python",
   "pygments_lexer": "ipython3",
   "version": "3.9.13"
  },
  "orig_nbformat": 4,
  "vscode": {
   "interpreter": {
    "hash": "0c5ab5b7dd28a9699fdc040a259e90886b29cf61f0f6cfd5f29670318f0516d6"
   }
  }
 },
 "nbformat": 4,
 "nbformat_minor": 2
}
