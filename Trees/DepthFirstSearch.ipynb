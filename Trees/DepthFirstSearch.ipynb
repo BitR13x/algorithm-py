{
 "cells": [
  {
   "attachments": {},
   "cell_type": "markdown",
   "metadata": {},
   "source": [
    "### The DFS algorithm works as follows:\n",
    "* 1. Start at the root node of the tree.\n",
    "* 2. Visit the root node and mark it as visited.\n",
    "* 3. If the current node has unvisited children, choose one of them and visit it. Mark it as visited.\n",
    "* 4. If the current node has no unvisited children, backtrack to the previous node and continue from there.\n",
    "* 5. Repeat steps 3 and 4 until all nodes have been visited.\n",
    "\n",
    "\n",
    "can be implemented recursively or iteratively using a stack data structure. In the recursive implementation, the function calls itself on each child node until there are no more children to visit. In the iterative implementation, the nodes are stored in a stack and popped off one by one until there are no more nodes to visit."
   ]
  },
  {
   "cell_type": "code",
   "execution_count": 80,
   "metadata": {},
   "outputs": [
    {
     "name": "stdout",
     "output_type": "stream",
     "text": [
      "Node(data=1, left=Node(2), right=Node(3))\n"
     ]
    }
   ],
   "source": [
    "class Node:\n",
    "\n",
    "    def __repr__(self) -> str:\n",
    "        left = f\"Node({self.left.data})\" if self.left else \"None\"\n",
    "        right = f\"Node({self.right.data})\" if self.right else \"None\"\n",
    "        return f\"Node(data={self.data}, left={left}, right={right})\"\n",
    "\n",
    "    def __init__(self, data, left=None, right=None) -> None:\n",
    "        self.data = data\n",
    "        self.left = left\n",
    "        self.right = right\n",
    "\n",
    "class Tree:\n",
    "\n",
    "    def insert(self, root: Node, data: int) -> Node:\n",
    "        if not root:\n",
    "            return Node(data)\n",
    "        \n",
    "        if not root.left:\n",
    "            root.left = Node(data)\n",
    "        elif not root.right:\n",
    "            root.right = Node(data)\n",
    "        else:\n",
    "            self.insert(root.left, data)\n",
    "            \n",
    "        return root\n",
    "myTree = Tree()\n",
    "root = None\n",
    "#Example of Tree:\n",
    "#    1\n",
    "#   / \\\n",
    "#  2   3\n",
    "# / \\\n",
    "#4   5\n",
    "for data in range(1,6):\n",
    "    root = myTree.insert(root, data)\n",
    "print(root)"
   ]
  },
  {
   "cell_type": "code",
   "execution_count": 85,
   "metadata": {},
   "outputs": [],
   "source": [
    "def depthFirstSearch(root: Node) -> None:\n",
    "    \"\"\"Inorder Traversal\"\"\"\n",
    "    if root:\n",
    "        # First recur on left child\n",
    "        depthFirstSearch(root.left)\n",
    "        # then print the data of node\n",
    "        print(root.data, end=\" \"),\n",
    "        # now recur on right child\n",
    "        depthFirstSearch(root.right)\n",
    " "
   ]
  },
  {
   "cell_type": "code",
   "execution_count": 86,
   "metadata": {},
   "outputs": [
    {
     "name": "stdout",
     "output_type": "stream",
     "text": [
      "4 2 5 1 3 "
     ]
    }
   ],
   "source": [
    "depthFirstSearch(root)"
   ]
  },
  {
   "cell_type": "code",
   "execution_count": 88,
   "metadata": {},
   "outputs": [],
   "source": [
    "def depthFirstSearch(root: Node) -> None:\n",
    "    \"\"\"Preorder Traversal\"\"\"\n",
    "    if root:\n",
    "        # First print the data of node\n",
    "        print(root.data, end=\" \"),\n",
    "        # Then recur on left child\n",
    "        depthFirstSearch(root.left)\n",
    "        # Finally recur on right child\n",
    "        depthFirstSearch(root.right)\n",
    " "
   ]
  },
  {
   "cell_type": "code",
   "execution_count": 89,
   "metadata": {},
   "outputs": [
    {
     "name": "stdout",
     "output_type": "stream",
     "text": [
      "1 2 4 5 3 "
     ]
    }
   ],
   "source": [
    "depthFirstSearch(root)"
   ]
  },
  {
   "cell_type": "code",
   "execution_count": 90,
   "metadata": {},
   "outputs": [],
   "source": [
    "def depthFirstSearch(root: Node) -> None:\n",
    "    \"\"\"Postorder Traversal\"\"\"\n",
    "    if root:\n",
    "        # First recur on left child\n",
    "        depthFirstSearch(root.left)\n",
    "        # the recur on right child\n",
    "        depthFirstSearch(root.right)\n",
    "        # now print the data of node\n",
    "        print(root.data, end=\" \"),"
   ]
  },
  {
   "cell_type": "code",
   "execution_count": 91,
   "metadata": {},
   "outputs": [
    {
     "name": "stdout",
     "output_type": "stream",
     "text": [
      "4 5 2 3 1 "
     ]
    }
   ],
   "source": [
    "depthFirstSearch(root)"
   ]
  },
  {
   "attachments": {},
   "cell_type": "markdown",
   "metadata": {},
   "source": [
    "* Inorder traversal of tree:\n",
    "    * -> 4 2 5 1 3 \n",
    "* Preorder traversal of tree:\n",
    "    * -> 1 2 4 5 3 \n",
    "* Postorder traversal of tree:\n",
    "    * -> 4 5 2 3 1 "
   ]
  },
  {
   "attachments": {},
   "cell_type": "markdown",
   "metadata": {},
   "source": [
    "Example of Tree:\n",
    "    1\n",
    "   / \\\n",
    "  2   3\n",
    " / \\\n",
    "4   5"
   ]
  },
  {
   "attachments": {},
   "cell_type": "markdown",
   "metadata": {},
   "source": [
    "### Iterative solution:\n",
    "1. If the root node is None, return an empty list.\n",
    "2. Initialize a stack with the root node.\n",
    "3. Initialize an empty list to hold the DFS traversal.\n",
    "4. While the stack is not empty:\n",
    "    * Pop the top node from the stack and add its dataue to the result list.\n",
    "    * If the node has a right child, push it onto the stack.\n",
    "    * If the node has a left child, push it onto the stack.\n",
    "5. Return the result list."
   ]
  },
  {
   "cell_type": "code",
   "execution_count": 92,
   "metadata": {},
   "outputs": [],
   "source": [
    "def DFS_iterative(root: Node) -> list:\n",
    "    if root == None:\n",
    "        return []\n",
    "    \n",
    "    stack = [root]\n",
    "    result = []\n",
    "\n",
    "    while stack:\n",
    "        node = stack.pop()\n",
    "        result.append(node.data)\n",
    "        \n",
    "        if node.right:\n",
    "            stack.append(node.right)\n",
    "\n",
    "        if node.left:\n",
    "            stack.append(node.left)\n",
    "\n",
    "    return result"
   ]
  },
  {
   "cell_type": "code",
   "execution_count": 93,
   "metadata": {},
   "outputs": [
    {
     "data": {
      "text/plain": [
       "[1, 2, 4, 5, 3]"
      ]
     },
     "execution_count": 93,
     "metadata": {},
     "output_type": "execute_result"
    }
   ],
   "source": [
    "DFS_iterative(root)"
   ]
  }
 ],
 "metadata": {
  "kernelspec": {
   "display_name": "Python 3",
   "language": "python",
   "name": "python3"
  },
  "language_info": {
   "codemirror_mode": {
    "name": "ipython",
    "version": 3
   },
   "file_extension": ".py",
   "mimetype": "text/x-python",
   "name": "python",
   "nbconvert_exporter": "python",
   "pygments_lexer": "ipython3",
   "version": "3.9.13"
  },
  "orig_nbformat": 4,
  "vscode": {
   "interpreter": {
    "hash": "0c5ab5b7dd28a9699fdc040a259e90886b29cf61f0f6cfd5f29670318f0516d6"
   }
  }
 },
 "nbformat": 4,
 "nbformat_minor": 2
}
