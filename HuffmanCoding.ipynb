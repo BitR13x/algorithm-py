{
 "cells": [
  {
   "attachments": {},
   "cell_type": "markdown",
   "metadata": {},
   "source": [
    "Huffman coding is a lossless data compression algorithm that assigns variable-length codes to characters based on their frequency of occurrence, resulting in a more efficient representation of the data."
   ]
  },
  {
   "cell_type": "code",
   "execution_count": 1,
   "metadata": {},
   "outputs": [],
   "source": [
    "class Node():\n",
    "    \"\"\"\n",
    "    Symbol = any letter\n",
    "    weigth = frequency of appearance\n",
    "\n",
    "    code = left right movement\n",
    "    when moving left = 0 and right = 1\n",
    "    \"\"\"\n",
    "    def __init__(self, symbol: str | None, weight: float) -> None:\n",
    "        self.root = None\n",
    "        self.symbol = symbol\n",
    "        self.weight = weight\n",
    "        self.code = None\n",
    "        self.right = None\n",
    "        self.left = None\n",
    "\n",
    "    def __str__(self) -> str:\n",
    "        return f\"{self.symbol}\"\n",
    "    \n",
    "    def __lt__(self, nxt) -> True | False:\n",
    "        return self.weight < nxt.weight"
   ]
  },
  {
   "cell_type": "code",
   "execution_count": 2,
   "metadata": {},
   "outputs": [],
   "source": [
    "class BinaryTree():\n",
    "    def __init__(self, root: Node) -> None:\n",
    "        self.root = root\n",
    "        self.codes = dict()\n",
    "        self.traverse(self.root)\n",
    "\n",
    "    def traverse(self, node, val='') -> None:\n",
    "        # huffman code for current node\n",
    "        newVal = val\n",
    "        if not node.code is None:\n",
    "            newVal = val + str(node.code)\n",
    "\n",
    "        # if node is not an edge node\n",
    "        # then traverse inside it\n",
    "        if(node.left):\n",
    "            self.traverse(node.left, newVal)\n",
    "        if(node.right):\n",
    "            self.traverse(node.right, newVal)\n",
    "\n",
    "        # if node is edge node then\n",
    "        # display its huffman code\n",
    "        if(not node.left and not node.right):\n",
    "            self.codes[node.symbol] = newVal\n",
    "\n",
    "    def encode(self, text: str) -> str:\n",
    "        string = \"\"\n",
    "        for letter in text:\n",
    "            string += self.codes[letter]\n",
    "        \n",
    "        return string\n",
    "    \n",
    "    def decode(self, text: str) -> str:\n",
    "        string = \"\"\n",
    "        curr = self.root\n",
    "\n",
    "        for num in text:\n",
    "            if num == \"0\":\n",
    "                curr = curr.left\n",
    "            else:\n",
    "                curr = curr.right\n",
    "\n",
    "            # if node is leaf\n",
    "            if curr.left is None and curr.right is None:\n",
    "                string += curr.symbol\n",
    "                curr = self.root\n",
    "        \n",
    "        return string"
   ]
  },
  {
   "cell_type": "code",
   "execution_count": 3,
   "metadata": {},
   "outputs": [],
   "source": [
    "def construct_tree(text: str) -> (Node, dict):\n",
    "    \"\"\"\n",
    "    Connecting the tree, node by node\n",
    "    1) Hashmap for each letter\n",
    "    2) Calculating frequency for each letter\n",
    "    3) Creating priority queue\n",
    "    4) Fill queue with nodes that have symbol and weight(frequency)\n",
    "    5) Connecting nodes\n",
    "    \"\"\"\n",
    "    hashmap = dict()\n",
    "\n",
    "    # ocurence\n",
    "    for letter in text:\n",
    "        if letter in hashmap.keys():\n",
    "            hashmap[letter] += 1\n",
    "        else:\n",
    "            hashmap[letter] = 1\n",
    "\n",
    "    # frequency\n",
    "    text_length = len(text)\n",
    "    for key in hashmap.keys():\n",
    "        hashmap[key] = hashmap[key] / text_length\n",
    "\n",
    "    # queue \n",
    "    queue = [Node(symbol=symbol, weight=hashmap[symbol]) for symbol in hashmap.keys()]\n",
    "\n",
    "    # sort based on weight\n",
    "    queue.sort(key=lambda node: node.weight)\n",
    "\n",
    "    # Constructing Tree\n",
    "    while len(queue) > 1:\n",
    "        n1, n2 = queue.pop(0), queue.pop(0)\n",
    "\n",
    "        in_n = Node(symbol=n1.symbol+n2.symbol, weight=n1.weight+n2.weight)\n",
    "\n",
    "        in_n.left = n1\n",
    "        in_n.left.code = 0\n",
    "\n",
    "        in_n.right = n2\n",
    "        in_n.right.code = 1\n",
    "\n",
    "        queue.insert(0, in_n)\n",
    "\n",
    "    return queue.pop(), hashmap # root"
   ]
  },
  {
   "cell_type": "code",
   "execution_count": 7,
   "metadata": {},
   "outputs": [
    {
     "name": "stdout",
     "output_type": "stream",
     "text": [
      "Initial text: A_DEAD_DAD_CEDED_A_BAD_BABE_A_BEADED_ABACA_BED \n",
      "\n",
      "Hashmap:  {'A': 0.2391304347826087, '_': 0.21739130434782608, 'D': 0.21739130434782608, 'E': 0.15217391304347827, 'C': 0.043478260869565216, 'B': 0.13043478260869565} \n",
      "\n",
      "\n",
      "\n",
      "100101000110100101101001000000001010001010011001000011010010000110000100010011001000010001101000101001100001100000100100001000101 \n",
      "\n",
      "\n",
      "A_DEAD_DAD_CEDED_A_BAD_BABE_A_BEADED_ABACA_BED\n"
     ]
    }
   ],
   "source": [
    "text = \"A_DEAD_DAD_CEDED_A_BAD_BABE_A_BEADED_ABACA_BED\"\n",
    "print(\"Initial text:\", text, \"\\n\")\n",
    "root, hashmap = construct_tree(text)\n",
    "print(\"Hashmap: \", hashmap, \"\\n\\n\\n\")\n",
    "tree = BinaryTree(root=root)\n",
    "\n",
    "encoded = tree.encode(text)\n",
    "print(encoded, \"\\n\\n\")\n",
    "decoded = tree.decode(encoded)\n",
    "print(decoded)"
   ]
  },
  {
   "cell_type": "code",
   "execution_count": 13,
   "metadata": {},
   "outputs": [
    {
     "name": "stdout",
     "output_type": "stream",
     "text": [
      "Working Fine\n"
     ]
    }
   ],
   "source": [
    "#? Test sum of frequncies\n",
    "suma = 0\n",
    "for freq in hashmap.values():\n",
    "    suma += freq\n",
    "\n",
    "\n",
    "assert suma == 1, f\"Suma not equals 1, but equals {suma}\"\n",
    "print(\"Working Fine\")"
   ]
  }
 ],
 "metadata": {
  "kernelspec": {
   "display_name": "Python 3",
   "language": "python",
   "name": "python3"
  },
  "language_info": {
   "codemirror_mode": {
    "name": "ipython",
    "version": 3
   },
   "file_extension": ".py",
   "mimetype": "text/x-python",
   "name": "python",
   "nbconvert_exporter": "python",
   "pygments_lexer": "ipython3",
   "version": "3.11.4"
  },
  "orig_nbformat": 4
 },
 "nbformat": 4,
 "nbformat_minor": 2
}
