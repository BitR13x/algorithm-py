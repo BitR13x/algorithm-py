{
 "cells": [
  {
   "cell_type": "code",
   "execution_count": null,
   "metadata": {},
   "outputs": [],
   "source": [
    "from random import randint\n",
    "def randomlist(n: int) -> list:\n",
    "    return [randint(-9000, 9000) for _ in range(n)]\n",
    "elements = randomlist(20)"
   ]
  },
  {
   "attachments": {},
   "cell_type": "markdown",
   "metadata": {},
   "source": [
    "### Here is how merge sort works in detail:\n",
    "* 1. Divide the input list into two halves\n",
    "* 2. Sort the left half recursively using merge sort\n",
    "* 3. Sort the right half recursively using merge sort\n",
    "* 4. Merge the two sorted halves back together to produce the final sorted list"
   ]
  },
  {
   "cell_type": "code",
   "execution_count": 4,
   "metadata": {},
   "outputs": [
    {
     "name": "stdout",
     "output_type": "stream",
     "text": [
      "[5, 6, 7, 11, 12, 13]\n"
     ]
    }
   ],
   "source": [
    "def mergeSort(elements: list) -> list:\n",
    "    length = len(elements)\n",
    "    if length <= 1:\n",
    "        return elements\n",
    "    \n",
    "    mid = length // 2\n",
    "    left = elements[0:mid]\n",
    "    right = elements[mid:]\n",
    "    \n",
    "    mergeSort(left)\n",
    "    mergeSort(right)\n",
    "    \n",
    "    i = j = k = 0\n",
    "    # Copy data to temp arrays L[] and R[]\n",
    "    while i < len(left) and j < len(right):\n",
    "        if left[i] <= right[j]:\n",
    "            elements[k] = left[i]\n",
    "            i += 1\n",
    "        else:\n",
    "            elements[k] = right[j]\n",
    "            j += 1\n",
    "        k += 1\n",
    "  \n",
    "    # Checking if any element was left\n",
    "    while i < len(left):\n",
    "        elements[k] = left[i]\n",
    "        i += 1\n",
    "        k += 1\n",
    "  \n",
    "    while j < len(right):\n",
    "        elements[k] = right[j]\n",
    "        j += 1\n",
    "        k += 1\n",
    "    return elements"
   ]
  },
  {
   "cell_type": "code",
   "execution_count": null,
   "metadata": {},
   "outputs": [],
   "source": [
    "print(mergeSort(elements))"
   ]
  }
 ],
 "metadata": {
  "kernelspec": {
   "display_name": "Python 3",
   "language": "python",
   "name": "python3"
  },
  "language_info": {
   "codemirror_mode": {
    "name": "ipython",
    "version": 3
   },
   "file_extension": ".py",
   "mimetype": "text/x-python",
   "name": "python",
   "nbconvert_exporter": "python",
   "pygments_lexer": "ipython3",
   "version": "3.9.13"
  },
  "orig_nbformat": 4,
  "vscode": {
   "interpreter": {
    "hash": "0c5ab5b7dd28a9699fdc040a259e90886b29cf61f0f6cfd5f29670318f0516d6"
   }
  }
 },
 "nbformat": 4,
 "nbformat_minor": 2
}
