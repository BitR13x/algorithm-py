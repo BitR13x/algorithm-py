{
 "cells": [
  {
   "cell_type": "code",
   "execution_count": 3,
   "metadata": {},
   "outputs": [],
   "source": [
    "from random import randint\n",
    "def randomlist(n: int) -> list:\n",
    "    return [randint(-9000, 9000) for _ in range(n)]\n",
    "elements = randomlist(20)"
   ]
  },
  {
   "attachments": {},
   "cell_type": "markdown",
   "metadata": {},
   "source": [
    "### Here are the steps involved in the bubble sort algorithm:\n",
    "* 1. Starting from the first element in the list, compare each element with the next element.\n",
    "* 2. If the current element is greater than the next element, swap the two elements.\n",
    "* 3. Move to the next pair of elements and repeat step 2 until the end of the list is reached.\n",
    "* 4. Repeat steps 1-3 for a total of n iterations, where n is the number of elements in the list.\n",
    "* 5. After n iterations, the list should be sorted."
   ]
  },
  {
   "cell_type": "code",
   "execution_count": 8,
   "metadata": {},
   "outputs": [],
   "source": [
    "def bubbleSort(elements):\n",
    "    n = len(elements)\n",
    "    for j in range(n):\n",
    "        for i in range(n-j-1):\n",
    "            if elements[i] < elements[i+1]:\n",
    "                elements[i], elements[i+1] = elements[i+1], elements[i]\n",
    "    return elements"
   ]
  },
  {
   "cell_type": "code",
   "execution_count": 9,
   "metadata": {},
   "outputs": [
    {
     "name": "stdout",
     "output_type": "stream",
     "text": [
      "[8231, 7468, 7298, 7288, 5945, 5820, 5507, 5127, 3223, 1958, 773, 325, -2278, -3491, -3535, -3701, -5818, -6716, -7149, -8197]\n"
     ]
    }
   ],
   "source": [
    "print(bubbleSort(elements))"
   ]
  }
 ],
 "metadata": {
  "kernelspec": {
   "display_name": "Python 3",
   "language": "python",
   "name": "python3"
  },
  "language_info": {
   "codemirror_mode": {
    "name": "ipython",
    "version": 3
   },
   "file_extension": ".py",
   "mimetype": "text/x-python",
   "name": "python",
   "nbconvert_exporter": "python",
   "pygments_lexer": "ipython3",
   "version": "3.9.13"
  },
  "orig_nbformat": 4,
  "vscode": {
   "interpreter": {
    "hash": "0c5ab5b7dd28a9699fdc040a259e90886b29cf61f0f6cfd5f29670318f0516d6"
   }
  }
 },
 "nbformat": 4,
 "nbformat_minor": 2
}
