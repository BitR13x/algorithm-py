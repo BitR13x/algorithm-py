{
 "cells": [
  {
   "cell_type": "code",
   "execution_count": 1,
   "metadata": {},
   "outputs": [],
   "source": [
    "from random import randint\n",
    "def randomlist(n: int) -> list:\n",
    "    return [randint(0, 9000) for _ in range(n)]\n",
    "elements = randomlist(20)"
   ]
  },
  {
   "attachments": {},
   "cell_type": "markdown",
   "metadata": {},
   "source": [
    "Algorithm used to sort an array or list of non-negative integers in linear time. It works by counting the number of occurrences of each distinct element in the input array and then sorting them based on their counts.\n",
    "\n",
    "If we want to sort also the negative numbers, find the minimum element and we will store the count of that minimum element at the zero index.\n",
    "\n",
    "You can use this algorithm to sort string based ord value you will use counting_array of length 256 (largest ASCII char).\n",
    "\n",
    "Time complexity: O(n+k), where k is the range of input."
   ]
  },
  {
   "attachments": {},
   "cell_type": "markdown",
   "metadata": {},
   "source": [
    "### Here are the steps:\n",
    "* 1. Find the maximum element in the input array.\n",
    "* 2. Initialize a counting array of size equal to the maximum element found in the input array. Each element of the counting array should be initialized to zero.\n",
    "* 3. Traverse the input array and for each element, increment the corresponding index in the counting array.\n",
    "* 4. Compute the cumulative sum of the elements in the counting array.\n",
    "* 5. Create a new output array of the same size as the input array.\n",
    "* 6. Traverse the input array in reverse order and, for each element, place it in the correct position in the output array based on the corresponding value in the counting array.\n",
    "* 7. Decrement the corresponding value in the counting array for each element placed in the output array.\n",
    "* 8. Return the output array as the sorted array.\n",
    "\n"
   ]
  },
  {
   "cell_type": "code",
   "execution_count": 5,
   "metadata": {},
   "outputs": [],
   "source": [
    "def countingSort(elements: list) -> list:\n",
    "    # 1.\n",
    "    maximum = max(elements)\n",
    "\n",
    "    # 2.\n",
    "    counting_array = [0] * (maximum + 1)\n",
    "    \n",
    "    # 3.\n",
    "    for num in elements:\n",
    "        counting_array[num] += 1\n",
    "\n",
    "    # 4.\n",
    "    for i in range(1, maximum + 1):\n",
    "        counting_array[i] += counting_array[i-1]\n",
    "    \n",
    "    # 5.\n",
    "    result = [0] * len(elements)\n",
    "    # 6.\n",
    "    for i in range(len(elements)):\n",
    "        num = elements[i]\n",
    "        index = counting_array[num] - 1\n",
    "        result[index] = num\n",
    "        # 7.\n",
    "        counting_array[num] -= 1\n",
    "\n",
    "    # 8.\n",
    "    return result"
   ]
  },
  {
   "cell_type": "code",
   "execution_count": 8,
   "metadata": {},
   "outputs": [
    {
     "name": "stdout",
     "output_type": "stream",
     "text": [
      "Elements: [6873, 4871, 6400, 8277, 3754, 8007, 1011, 1416, 2389, 7398, 8831, 5372, 5518, 697, 930, 3073, 1090, 997, 4912, 3120] \n",
      "\n",
      "Counting sort: [697, 930, 997, 1011, 1090, 1416, 2389, 3073, 3120, 3754, 4871, 4912, 5372, 5518, 6400, 6873, 7398, 8007, 8277, 8831]\n"
     ]
    }
   ],
   "source": [
    "print(f\"Elements: {elements} \\n\" )\n",
    "print(f\"Counting sort: {countingSort(elements)}\")"
   ]
  }
 ],
 "metadata": {
  "kernelspec": {
   "display_name": "Python 3",
   "language": "python",
   "name": "python3"
  },
  "language_info": {
   "codemirror_mode": {
    "name": "ipython",
    "version": 3
   },
   "file_extension": ".py",
   "mimetype": "text/x-python",
   "name": "python",
   "nbconvert_exporter": "python",
   "pygments_lexer": "ipython3",
   "version": "3.9.13"
  },
  "orig_nbformat": 4
 },
 "nbformat": 4,
 "nbformat_minor": 2
}
