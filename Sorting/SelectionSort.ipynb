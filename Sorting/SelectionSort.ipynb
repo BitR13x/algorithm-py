{
 "cells": [
  {
   "cell_type": "code",
   "execution_count": null,
   "metadata": {},
   "outputs": [],
   "source": [
    "from random import randint\n",
    "def randomlist(n: int) -> list:\n",
    "    return [randint(-9000, 9000) for _ in range(n)]\n",
    "elements = randomlist(20)"
   ]
  },
  {
   "attachments": {},
   "cell_type": "markdown",
   "metadata": {},
   "source": [
    "### Here's how it works:\n",
    "\n",
    "* 1.    Find the minimum element in the unsorted part of the array.\n",
    "* 2.    Swap the minimum element with the first element in the unsorted part of the array.\n",
    "* 3.    Move the boundary of the sorted part of the array one element to the right (i.e., increase the size of the sorted part by one element).\n",
    "* 4.    Repeat steps 1-3 until the entire array is sorted."
   ]
  },
  {
   "cell_type": "code",
   "execution_count": null,
   "metadata": {},
   "outputs": [],
   "source": [
    "def SelectionSort(elements: list) -> list:\n",
    "    \"\"\"\n",
    "    The algorithm works by repeatedly finding the minimum element in the unsorted portion of the list, and\n",
    "    moving it to the beginning of the unsorted portion. The function continues this process until the entire\n",
    "    list is sorted.\n",
    "\n",
    "    Worst case: O(n^2)\n",
    "    \"\"\"\n",
    "    n = len(elements)\n",
    "    for i in range(n):\n",
    "        # Find the minimum element in the unsorted portion of the list\n",
    "        min_idx = i\n",
    "        for j in range(i+1, n):\n",
    "            if elements[j] < elements[min_idx]:\n",
    "                min_idx = j\n",
    "                \n",
    "        # Swap the minimum element with the first element in the unsorted portion of the list\n",
    "        elements[i], elements[min_idx] = elements[min_idx], elements[i]\n",
    "        \n",
    "    return elements"
   ]
  },
  {
   "cell_type": "code",
   "execution_count": null,
   "metadata": {},
   "outputs": [],
   "source": [
    "print(SelectionSort(elements))"
   ]
  }
 ],
 "metadata": {
  "kernelspec": {
   "display_name": "Python 3",
   "language": "python",
   "name": "python3"
  },
  "language_info": {
   "codemirror_mode": {
    "name": "ipython",
    "version": 3
   },
   "file_extension": ".py",
   "mimetype": "text/x-python",
   "name": "python",
   "nbconvert_exporter": "python",
   "pygments_lexer": "ipython3",
   "version": "3.9.13"
  },
  "orig_nbformat": 4,
  "vscode": {
   "interpreter": {
    "hash": "0c5ab5b7dd28a9699fdc040a259e90886b29cf61f0f6cfd5f29670318f0516d6"
   }
  }
 },
 "nbformat": 4,
 "nbformat_minor": 2
}
