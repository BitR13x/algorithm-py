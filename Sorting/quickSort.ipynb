{
 "cells": [
  {
   "cell_type": "code",
   "execution_count": 14,
   "metadata": {},
   "outputs": [],
   "source": [
    "from random import randint\n",
    "def randomlist(n: int) -> list:\n",
    "    return [randint(-9000, 9000) for _ in range(n)]\n",
    "elements = randomlist(20)"
   ]
  },
  {
   "attachments": {},
   "cell_type": "markdown",
   "metadata": {},
   "source": [
    "### Here is how QuickSort works in detail:\n",
    "* 1. Choose a pivot element from the list (typically the first or last element).\n",
    "* 2. Partition the list into two sublists: one containing all elements less than or equal to the pivot, and the other containing all elements greater than the pivot.\n",
    "* 3. Recursively sort the two sublists using QuickSort.\n",
    "* 4. Combine the two sorted sublists and the pivot to produce the final sorted lis"
   ]
  },
  {
   "cell_type": "code",
   "execution_count": 16,
   "metadata": {},
   "outputs": [],
   "source": [
    "def quickSort(elements: list) -> list:\n",
    "    \"\"\"\n",
    "    Sorts a given list of integers in ascending order using the quicksort algorithm.\n",
    "\n",
    "    1) Works by selecting a pivot element from the list.\n",
    "    \n",
    "    2) partitioning the list into two sub-lists: one containing all elements less than the pivot, and one containing all elements greater\n",
    "    than the pivot. \n",
    "    \n",
    "    3¨) Recursively applies this process to the left and right sub-lists until the entire list is sorted.\n",
    "    \"\"\"\n",
    "    n = len(elements)\n",
    "    if n <= 1:\n",
    "        return elements\n",
    "    \n",
    "    pivot = elements[-1]\n",
    "    left = []\n",
    "    right = []\n",
    "    \n",
    "    for element in elements[:n-1]:\n",
    "        if element <= pivot:\n",
    "            left.append(element)\n",
    "        else:\n",
    "            right.append(element)\n",
    "\n",
    "    sorted_left = quickSort(left)\n",
    "    sorted_right = quickSort(right)\n",
    "    \n",
    "    return sorted_left + [pivot] + sorted_right"
   ]
  },
  {
   "cell_type": "code",
   "execution_count": 17,
   "metadata": {},
   "outputs": [
    {
     "name": "stdout",
     "output_type": "stream",
     "text": [
      "[-8719, -6980, -6941, -6519, -6224, -4918, -3688, -3462, -2983, -2904, -1921, -1095, 1506, 1779, 3125, 6905, 7018, 7513, 8660, 8701]\n"
     ]
    }
   ],
   "source": [
    "print(quickSort(elements))"
   ]
  }
 ],
 "metadata": {
  "kernelspec": {
   "display_name": "Python 3",
   "language": "python",
   "name": "python3"
  },
  "language_info": {
   "codemirror_mode": {
    "name": "ipython",
    "version": 3
   },
   "file_extension": ".py",
   "mimetype": "text/x-python",
   "name": "python",
   "nbconvert_exporter": "python",
   "pygments_lexer": "ipython3",
   "version": "3.9.13"
  },
  "orig_nbformat": 4,
  "vscode": {
   "interpreter": {
    "hash": "0c5ab5b7dd28a9699fdc040a259e90886b29cf61f0f6cfd5f29670318f0516d6"
   }
  }
 },
 "nbformat": 4,
 "nbformat_minor": 2
}
