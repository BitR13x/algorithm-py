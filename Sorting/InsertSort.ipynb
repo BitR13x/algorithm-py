{
 "cells": [
  {
   "cell_type": "code",
   "execution_count": 23,
   "metadata": {},
   "outputs": [],
   "source": [
    "from random import randint\n",
    "def randomlist(n: int) -> list:\n",
    "    return [randint(-9000, 9000) for _ in range(n)]\n",
    "elements = randomlist(20)"
   ]
  },
  {
   "attachments": {},
   "cell_type": "markdown",
   "metadata": {},
   "source": [
    "### The algorithm works as follows:\n",
    "\n",
    "* 1.    Start with the second element in the array (element at index 1).\n",
    "* 2.    Compare the second element with the first element. If the second element is smaller than the first, swap them.\n",
    "* 3.    Move on to the third element (index 2), and compare it with the elements in the sorted subarray (elements at index 0 and 1). Insert the third element into its correct position in the sorted subarray by shifting the larger elements to the right.\n",
    "* 4.    Repeat this process for each element in the unsorted portion of the array, until the entire array is sorted."
   ]
  },
  {
   "cell_type": "code",
   "execution_count": 21,
   "metadata": {},
   "outputs": [],
   "source": [
    "def InsertSort(elements: list) -> list:\n",
    "    for i in range(1,len(elements)):\n",
    "        key = elements[i]\n",
    "        # Move elements of arr[0..i-1], that are\n",
    "        # greater than key, to one position ahead\n",
    "        # of their current position\n",
    "        j = i-1\n",
    "        while j >= 0 and key < elements[j] :\n",
    "                elements[j + 1] = elements[j]\n",
    "                j -= 1\n",
    "        elements[j + 1] = key\n",
    "    return elements"
   ]
  },
  {
   "cell_type": "code",
   "execution_count": 24,
   "metadata": {},
   "outputs": [
    {
     "name": "stdout",
     "output_type": "stream",
     "text": [
      "[-8636, -6800, -6161, -5955, -5729, -4250, -2600, -1254, -408, 1063, 2015, 3592, 3634, 4331, 5924, 5940, 7743, 7872, 8518, 8718]\n"
     ]
    }
   ],
   "source": [
    "print(InsertSort(elements))"
   ]
  }
 ],
 "metadata": {
  "kernelspec": {
   "display_name": "Python 3",
   "language": "python",
   "name": "python3"
  },
  "language_info": {
   "codemirror_mode": {
    "name": "ipython",
    "version": 3
   },
   "file_extension": ".py",
   "mimetype": "text/x-python",
   "name": "python",
   "nbconvert_exporter": "python",
   "pygments_lexer": "ipython3",
   "version": "3.9.13"
  },
  "orig_nbformat": 4,
  "vscode": {
   "interpreter": {
    "hash": "0c5ab5b7dd28a9699fdc040a259e90886b29cf61f0f6cfd5f29670318f0516d6"
   }
  }
 },
 "nbformat": 4,
 "nbformat_minor": 2
}
