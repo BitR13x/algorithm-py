{
 "cells": [
  {
   "attachments": {},
   "cell_type": "markdown",
   "metadata": {},
   "source": [
    "Diffie-Hellman key exchange is a cryptographic protocol that allows two parties to establish a shared secret key over an insecure communication channel, which can then be used for secure communication using symmetric encryption. It is widely used in modern cryptography and secure communication protocols."
   ]
  },
  {
   "attachments": {},
   "cell_type": "markdown",
   "metadata": {},
   "source": [
    "### Here’s how it works\n",
    "\n",
    "The **pow()** function in Python is used to calculate the power of a number\n",
    "\n",
    "1. Alice and Bob agree on two public values: a large prime number **p** and a \n",
    "primitive root modulo **p** called **g**.\n",
    "\n",
    "2. Alice chooses a random private key **a** and computes **A = g^a mod p.** She then sends A to Bob over the insecure channel.\n",
    "\n",
    "3. Bob chooses a random private key **b** and computes **B = g^b mod p**. He then sends B to Alice over the insecure channel.\n",
    "\n",
    "4. Alice computes the shared secret key as **s = B^a mod p**.\n",
    "\n",
    "5. Bob computes the shared secret key as **s = A^b mod p**."
   ]
  },
  {
   "cell_type": "code",
   "execution_count": 2,
   "metadata": {},
   "outputs": [],
   "source": [
    "def diffie_hellman(p: int, g: int, a: int, b: int) -> tuple:\n",
    "    A = pow(g, a) % p\n",
    "    B = pow(g, b) % p\n",
    "    s1 = pow(B, a) % p\n",
    "    s2 = pow(A, b) % p\n",
    "    return (s1,s2)"
   ]
  },
  {
   "cell_type": "code",
   "execution_count": 3,
   "metadata": {},
   "outputs": [
    {
     "name": "stdout",
     "output_type": "stream",
     "text": [
      "Public keys P: 23 , G: 9\n",
      "Private keys Alice: 4, Bob: 3\n",
      "Secret keys for Alice, Bob: (9, 9)\n"
     ]
    }
   ],
   "source": [
    "# public keys G and P\n",
    "P = 23\n",
    "G = 9\n",
    "\n",
    "print(f'Public keys P: {P} , G: {G}')\n",
    "\n",
    "# private key (Alice): a\n",
    "a = 4\n",
    "# private key (Bob): b\n",
    "b = 3\n",
    "\n",
    "print(f'Private keys Alice: {a}, Bob: {b}')\n",
    "print(f'Secret keys for Alice, Bob: {diffie_hellman(P, G, a, b)}')\n"
   ]
  }
 ],
 "metadata": {
  "kernelspec": {
   "display_name": "Python 3",
   "language": "python",
   "name": "python3"
  },
  "language_info": {
   "codemirror_mode": {
    "name": "ipython",
    "version": 3
   },
   "file_extension": ".py",
   "mimetype": "text/x-python",
   "name": "python",
   "nbconvert_exporter": "python",
   "pygments_lexer": "ipython3",
   "version": "3.9.13"
  },
  "orig_nbformat": 4
 },
 "nbformat": 4,
 "nbformat_minor": 2
}
