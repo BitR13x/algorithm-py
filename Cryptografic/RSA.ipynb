{
 "cells": [
  {
   "cell_type": "code",
   "execution_count": null,
   "metadata": {},
   "outputs": [],
   "source": [
    "def gcd(a, b):\n",
    "    while b:\n",
    "        a, b = b, a % b\n",
    "    return a\n",
    "\n",
    "def lcm(a, b):\n",
    "    return abs(a * b) // gcd(a, b)\n",
    "\n",
    "p = 61\n",
    "q = 53\n",
    "\n",
    "# ? Euler's totient can be used insted of phi\n",
    "euler = lambda p,q: lcm(p-1,q-1)"
   ]
  },
  {
   "cell_type": "code",
   "execution_count": 29,
   "metadata": {},
   "outputs": [
    {
     "name": "stdout",
     "output_type": "stream",
     "text": [
      "Default case: [72, 101, 108, 108, 111]\n",
      "Encrypted list: [3000, 1313, 745, 745, 2185]\n",
      "Decrypted list: [72, 101, 108, 108, 111]\n"
     ]
    }
   ],
   "source": [
    "\n",
    "# ? Choose two prime numbers\n",
    "p = 61\n",
    "q = 53\n",
    "\n",
    "n = p * q\n",
    "\n",
    "phi = lambda p,q: (p - 1) * (q - 1)\n",
    "\n",
    "# ? public exponent such that 1 < e < (phi || euler)\n",
    "e = 17\n",
    "\n",
    "# ? d ≡ e^-1 (mod phi(n)) = 413 -- (as mentioned above you can use euler's totient)\n",
    "d = pow(e,-1,phi(p,q))\n",
    "\n",
    "# ? public keys made up: n, e\n",
    "# ? private keys made up: n, d\n",
    "private = (n, d)\n",
    "public = (n, e)\n",
    "\n",
    "message = \"Hello\"\n",
    "# You can create a encoder and decoder which just transfer the text into hex and back\n",
    "result = list(map(lambda char: ord(char), message))\n",
    "print(\"Default case:\",result)\n",
    "\n",
    "# ? With the public key, m can be encrypted trivially\n",
    "result = list(map(lambda m: m**public[1] % public[0], result))\n",
    "print(\"Encrypted list:\",result)\n",
    "\n",
    "# ? With the private key, m can be decrypted trivially as well\n",
    "result = list(map(lambda x: x**private[1] % private[0], result))\n",
    "print(\"Decrypted list:\", result)"
   ]
  }
 ],
 "metadata": {
  "kernelspec": {
   "display_name": "Python 3",
   "language": "python",
   "name": "python3"
  },
  "language_info": {
   "name": "python",
   "version": "3.9.13"
  },
  "orig_nbformat": 4
 },
 "nbformat": 4,
 "nbformat_minor": 2
}
