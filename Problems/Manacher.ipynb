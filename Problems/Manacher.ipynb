{
 "cells": [
  {
   "attachments": {},
   "cell_type": "markdown",
   "metadata": {},
   "source": [
    "Manacher's algorithm is used to find the longest palindromic substring in any given string. "
   ]
  },
  {
   "cell_type": "code",
   "execution_count": null,
   "metadata": {},
   "outputs": [],
   "source": [
    "def longestPalindrome(s: str) -> str:\n",
    "    T = '#' + '#'.join(s) + '#'\n",
    "    n = len(T)\n",
    "    P = [0] * n\n",
    "    C = R = 0\n",
    "\n",
    "    for i in range(n):\n",
    "        if i < R:\n",
    "            mirror = 2 * C - i\n",
    "            P[i] = min(R - i, P[mirror])\n",
    "        while i + 1 + P[i] < n and i - 1 - P[i] >= 0 and T[i + 1 + P[i]] == T[i - 1 - P[i]]:\n",
    "            P[i] += 1\n",
    "        if i + P[i] > R:\n",
    "            C = i\n",
    "            R = i + P[i]\n",
    "    \n",
    "    maxLen, centerIndex = max((n, i) for i, n in enumerate(P))\n",
    "    start = (centerIndex - maxLen) // 2\n",
    "    end = start + maxLen\n",
    "    \n",
    "    return s[start:end]"
   ]
  }
 ],
 "metadata": {
  "language_info": {
   "name": "python"
  },
  "orig_nbformat": 4
 },
 "nbformat": 4,
 "nbformat_minor": 2
}
