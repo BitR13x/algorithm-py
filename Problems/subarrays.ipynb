{
 "cells": [
  {
   "attachments": {},
   "cell_type": "markdown",
   "metadata": {},
   "source": [
    "Suppose you have a list of integers, and you want to find the sum of all subarrays of length k. For example, if the list is [1, 2, 3, 4, 5] and k is 3, the subarrays of length 3 are [1, 2, 3], [2, 3, 4], and [3, 4, 5], and their sum is 6 + 9 + 12 = 27."
   ]
  },
  {
   "cell_type": "code",
   "execution_count": 15,
   "metadata": {},
   "outputs": [
    {
     "data": {
      "text/plain": [
       "27"
      ]
     },
     "execution_count": 15,
     "metadata": {},
     "output_type": "execute_result"
    }
   ],
   "source": [
    "# Time complexity O(n*k)\n",
    "def sum_of_subarrays(elements: list[int], k: int) -> int:\n",
    "    n = len(elements)\n",
    "    if n < k:\n",
    "        return sum(elements)\n",
    "\n",
    "    result = 0\n",
    "    for i in range(n-k+1):\n",
    "        result += sum(elements[i:i+3])\n",
    "    return result\n",
    "\n",
    "sum_of_subarrays([1,2,3,4,5], 3)"
   ]
  },
  {
   "cell_type": "code",
   "execution_count": 17,
   "metadata": {},
   "outputs": [
    {
     "data": {
      "text/plain": [
       "27"
      ]
     },
     "execution_count": 17,
     "metadata": {},
     "output_type": "execute_result"
    }
   ],
   "source": [
    "# Time complexity O(n)\n",
    "def sum_of_subarrays(arr: list[int], k: int) -> int:\n",
    "    n = len(arr)\n",
    "    if k > n:\n",
    "        return 0\n",
    "    \n",
    "    # Calculate prefix sum\n",
    "    prefix_sum = [0] * (n+1)\n",
    "    for i in range(1, n+1):\n",
    "        prefix_sum[i] = prefix_sum[i-1] + arr[i-1]\n",
    "\n",
    "    # Initialize variables\n",
    "    total_sum = 0\n",
    "\n",
    "    # Iterate over possible starting indices\n",
    "    for i in range(n-k+1):\n",
    "        j = i + k\n",
    "        subarray_sum = prefix_sum[j] - prefix_sum[i]\n",
    "        total_sum += subarray_sum\n",
    "    \n",
    "    return total_sum\n",
    "\n",
    "sum_of_subarrays([1,2,3,4,5], 3)"
   ]
  }
 ],
 "metadata": {
  "kernelspec": {
   "display_name": "Python 3",
   "language": "python",
   "name": "python3"
  },
  "language_info": {
   "codemirror_mode": {
    "name": "ipython",
    "version": 3
   },
   "file_extension": ".py",
   "mimetype": "text/x-python",
   "name": "python",
   "nbconvert_exporter": "python",
   "pygments_lexer": "ipython3",
   "version": "3.9.13"
  },
  "orig_nbformat": 4
 },
 "nbformat": 4,
 "nbformat_minor": 2
}
