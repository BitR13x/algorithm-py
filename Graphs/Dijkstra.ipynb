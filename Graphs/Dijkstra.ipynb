{
 "cells": [
  {
   "attachments": {},
   "cell_type": "markdown",
   "metadata": {},
   "source": [
    "Dijkstra's algorithm is a graph search algorithm used to find the shortest path between two nodes in a weighted graph, and is commonly used in network routing protocols and GPS systems."
   ]
  },
  {
   "attachments": {},
   "cell_type": "markdown",
   "metadata": {},
   "source": [
    "1. Initialize the distance to the start node as 0, and the distance to all other nodes as infinity.\n",
    "2. Create a set to keep track of visited nodes, and a priority queue to keep track of nodes to visit next.\n",
    "3. Add the start node to the priority queue.\n",
    "4. While the priority queue is not empty:\n",
    "    * Pop the node with the smallest distance from the priority queue.\n",
    "    * If the node has already been visited, continue to the next node.\n",
    "    * Mark the current node as visited.\n",
    "    * For each neighbor of the current node:\n",
    "        * Calculate the distance from the start node to the neighbor through the current node.\n",
    "        * If the calculated distance is less than the recorded distance to the neighbor, update the recorded distance.\n",
    "        * Add the neighbor to the priority queue.\n",
    "5. Return the recorded distances to all nodes.\n"
   ]
  },
  {
   "cell_type": "code",
   "execution_count": 56,
   "metadata": {},
   "outputs": [],
   "source": [
    "graph = {\n",
    "    'A': {'B': 5, 'D': 9, 'E': 2},\n",
    "    'B': {'A': 5, 'C': 2},\n",
    "    'C': {'B': 2, 'D': 3},\n",
    "    'D': {'A': 9, 'C': 3, 'F': 2},\n",
    "    'E': {'A': 2, 'F': 3},\n",
    "    'F': {'D': 2, 'E': 3}\n",
    "}"
   ]
  },
  {
   "cell_type": "code",
   "execution_count": 57,
   "metadata": {},
   "outputs": [],
   "source": [
    "def Djikstra(start, graph):\n",
    "    distances = {node: float(\"inf\") for node in graph}\n",
    "    distances[start] = 0\n",
    "    \n",
    "    visited = set()\n",
    "    queue = [(0, start)]\n",
    "\n",
    "    while queue:\n",
    "        (dist, current_node) = min(queue, key=lambda x: x[0])\n",
    "        queue.remove((dist, current_node))\n",
    "\n",
    "        if current_node in visited:\n",
    "            continue\n",
    "\n",
    "        visited.add(current_node)\n",
    "\n",
    "        for neighbor, weight in graph[current_node].items():\n",
    "            distance = distances[current_node] + weight\n",
    "\n",
    "            if distance < distances[neighbor]:\n",
    "                distances[neighbor] = distance\n",
    "\n",
    "                queue.append((distance, neighbor))\n",
    "\n",
    "    return distances"
   ]
  },
  {
   "cell_type": "code",
   "execution_count": 58,
   "metadata": {},
   "outputs": [
    {
     "data": {
      "text/plain": [
       "{'A': 0, 'B': 5, 'C': 7, 'D': 7, 'E': 2, 'F': 5}"
      ]
     },
     "execution_count": 58,
     "metadata": {},
     "output_type": "execute_result"
    }
   ],
   "source": [
    "Djikstra(\"A\", graph)"
   ]
  }
 ],
 "metadata": {
  "kernelspec": {
   "display_name": "Python 3",
   "language": "python",
   "name": "python3"
  },
  "language_info": {
   "codemirror_mode": {
    "name": "ipython",
    "version": 3
   },
   "file_extension": ".py",
   "mimetype": "text/x-python",
   "name": "python",
   "nbconvert_exporter": "python",
   "pygments_lexer": "ipython3",
   "version": "3.9.13"
  },
  "orig_nbformat": 4
 },
 "nbformat": 4,
 "nbformat_minor": 2
}
