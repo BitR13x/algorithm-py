{
 "cells": [
  {
   "attachments": {},
   "cell_type": "markdown",
   "metadata": {},
   "source": [
    "A* is an informed search algorithm that uses a heuristic function to find the shortest path between two nodes in a graph. It is faster than Dijkstra’s algorithm because it uses best-first-search to speed things up.\n",
    "\n"
   ]
  },
  {
   "attachments": {},
   "cell_type": "markdown",
   "metadata": {},
   "source": [
    "1. Initialize the open set to contain only the start node and set its **gScore** (the cost from the start node to this node) to 0 and its **fScore** (the estimated total cost from start to end through this node) to the heuristic cost estimate from start to end.\n",
    "\n",
    "2. While the open set is not empty:\n",
    "    * Select the node in the open set with the lowest **fScore** and call it **current**.\n",
    "    * If **current** is the end node, reconstruct and return the path from start to end.\n",
    "    * Remove **current** from the open set.\n",
    "    * For each neighbor of **current**:\n",
    "        * Calculate a tentative **gScore** for this neighbor as the sum of **current**'s **gScore** and the distance between **current** and this neighbor.\n",
    "        * If this tentative **gScore** is less than this neighbor’s current **gScore**, update its cameFrom value to be **current**, update its gScore value to be this tentative gScore, update its fScore value to be its gScore plus its heuristic cost estimate from itself to end, and add it to openSet if it’s not already there.\n",
    "3. If we reach here, it means that no path was found so we return an empty list."
   ]
  },
  {
   "cell_type": "code",
   "execution_count": 4,
   "metadata": {},
   "outputs": [],
   "source": [
    "def heuristic_cost_estimate(start, end):\n",
    "    # Use the Manhattan distance as a heuristic\n",
    "    return abs(start[0] - end[0]) + abs(start[1] - end[1])\n",
    "\n",
    "def dist_between(current, neighbor):\n",
    "    # Assume the distance between neighboring nodes is always 1\n",
    "    return 1\n",
    "\n",
    "def reconstruct_path(cameFrom, current):\n",
    "    # This function reconstructs the path from the start node to the current node\n",
    "    total_path = [current]\n",
    "    while current in cameFrom.keys():\n",
    "        current = cameFrom[current]\n",
    "        total_path.append(current)\n",
    "    return total_path[::-1]\n",
    "\n",
    "\n",
    "def AStar(start, end, graph):\n",
    "    openSet = set([start])\n",
    "    cameFrom = {}\n",
    "    gScore = {node: float('inf') for node in graph}\n",
    "    gScore[start] = 0\n",
    "    fScore = {node: float('inf') for node in graph}\n",
    "    fScore[start] = heuristic_cost_estimate(start, end)\n",
    "\n",
    "    while openSet:\n",
    "        current = min(openSet, key=lambda x: fScore[x])\n",
    "        if current == end:\n",
    "            return reconstruct_path(cameFrom, current)\n",
    "\n",
    "        openSet.remove(current)\n",
    "        for neighbor in graph[current]:\n",
    "            tentative_gScore = gScore[current] + dist_between(current, neighbor)\n",
    "            if tentative_gScore < gScore[neighbor]:\n",
    "                cameFrom[neighbor] = current\n",
    "                gScore[neighbor] = tentative_gScore\n",
    "                fScore[neighbor] = gScore[neighbor] + heuristic_cost_estimate(neighbor, end)\n",
    "                if neighbor not in openSet:\n",
    "                    openSet.add(neighbor)\n",
    "\n",
    "    return []"
   ]
  },
  {
   "cell_type": "code",
   "execution_count": 5,
   "metadata": {},
   "outputs": [
    {
     "name": "stdout",
     "output_type": "stream",
     "text": [
      "[(0, 0), (0, 1), (1, 1)]\n"
     ]
    }
   ],
   "source": [
    "graph = {\n",
    "    (0, 0): [(0, 1), (1, 0)],\n",
    "    (0, 1): [(0, 0), (1, 1)],\n",
    "    (1, 0): [(0, 0), (1, 1)],\n",
    "    (1, 1): [(0, 1), (1, 0)]\n",
    "}\n",
    "\n",
    "start = (0, 0)\n",
    "end = (1, 1)\n",
    "\n",
    "path = AStar(start, end, graph)\n",
    "print(path)"
   ]
  }
 ],
 "metadata": {
  "kernelspec": {
   "display_name": "Python 3",
   "language": "python",
   "name": "python3"
  },
  "language_info": {
   "codemirror_mode": {
    "name": "ipython",
    "version": 3
   },
   "file_extension": ".py",
   "mimetype": "text/x-python",
   "name": "python",
   "nbconvert_exporter": "python",
   "pygments_lexer": "ipython3",
   "version": "3.9.13"
  },
  "orig_nbformat": 4
 },
 "nbformat": 4,
 "nbformat_minor": 2
}
