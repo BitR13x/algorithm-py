{
 "cells": [
  {
   "attachments": {},
   "cell_type": "markdown",
   "metadata": {},
   "source": [
    "The Bellman-Ford algorithm is an algorithm that computes shortest paths from a single source vertex to all of the other vertices in a weighted digraph.\n",
    "\n",
    "It is slower than Dijkstra’s algorithm for the same problem, but more versatile, as it is capable of handling graphs in which some of the edge weights are negative numbers."
   ]
  },
  {
   "attachments": {},
   "cell_type": "markdown",
   "metadata": {},
   "source": [
    "1. Initialize the distance of all vertices as infinity except the source vertex which is zero.\n",
    "\n",
    "2. Relax all edges **|V| - 1** times where **|V|** is the number of vertices in the graph. To relax an edge, check if the distance of the source vertex plus the weight of the edge is less than the current distance of the destination vertex. If so, update the distance of the destination vertex with this new distance.\n",
    "\n",
    "3. Check for negative weight cycles by relaxing all the edges one more time. If a shorter path is found, then there exists a negative weight cycle in the graph.\n",
    "\n",
    "4. Return the distance and predecessor arrays."
   ]
  },
  {
   "cell_type": "code",
   "execution_count": null,
   "metadata": {},
   "outputs": [],
   "source": [
    "graph = {\n",
    "    'A': {'B': -1, 'C': 4},\n",
    "    'B': {'C': 3, 'D': 2, 'E': 2},\n",
    "    'C': {},\n",
    "    'D': {'B': 1, 'C': 5},\n",
    "    'E': {'D': -3}\n",
    "}\n",
    "start = 'A'"
   ]
  },
  {
   "cell_type": "code",
   "execution_count": null,
   "metadata": {},
   "outputs": [],
   "source": [
    "def bellman_ford(graph, start):\n",
    "    # Step 1:\n",
    "    distance = {node: float(\"inf\") for node in graph}\n",
    "    distance[start] = 0\n",
    "    predecessor = {vertex: None for vertex in graph}\n",
    "\n",
    "    # Step 2:\n",
    "    for _ in range(len(graph) - 1):\n",
    "        for vertex in graph:\n",
    "            for neighbor, weight in graph[vertex].items():\n",
    "                if distance[vertex] + weight < distance[neighbor]:\n",
    "                    distance[neighbor] = distance[vertex] + weight\n",
    "                    predecessor[neighbor] = vertex\n",
    "    # Step 3:\n",
    "    for vertex in graph:\n",
    "        for neighbor, weight in graph[vertex].items():\n",
    "            if distance[vertex] + weight < distance[neighbor]:\n",
    "                raise ValueError('Negative weight cycle detected')\n",
    "\n",
    "    # Step 4:\n",
    "    return distance, predecessor"
   ]
  },
  {
   "cell_type": "code",
   "execution_count": null,
   "metadata": {},
   "outputs": [],
   "source": [
    "distance, predecessor = bellman_ford(graph, start)\n",
    "print(distance)\n",
    "print(predecessor)"
   ]
  }
 ],
 "metadata": {
  "language_info": {
   "name": "python"
  },
  "orig_nbformat": 4
 },
 "nbformat": 4,
 "nbformat_minor": 2
}
