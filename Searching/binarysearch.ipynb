{
 "cells": [
  {
   "cell_type": "code",
   "execution_count": 18,
   "metadata": {},
   "outputs": [],
   "source": [
    "from random import randint\n",
    "def randomlist(n: int) -> list:\n",
    "    return [randint(-9000, 9000) for _ in range(n)]\n",
    "\n",
    "target = 7500\n",
    "elements = randomlist(20)\n",
    "elements.append(target)\n",
    "elements.sort()"
   ]
  },
  {
   "attachments": {},
   "cell_type": "markdown",
   "metadata": {},
   "source": [
    "### Here are the steps involved in binary search algorithm:\n",
    "* 1.    Given a sorted array, start by setting two pointers: left pointer (l) and right pointer (r) to the first and last elements of the array, respectively.\n",
    "* 2.    Compute the middle element (m) of the array using the formula m = (l + r) / 2.\n",
    "* 3.    Compare the target value with the middle element:\n",
    "    a. If the target value is equal to the middle element, the search is successful and the position of the target value is returned.\n",
    "    b. If the target value is less than the middle element, ignore the right half of the array and repeat step 2 with the left half of the array.\n",
    "    c. If the target value is greater than the middle element, ignore the left half of the array and repeat step 2 with the right half of the array.\n",
    "* 4.    Repeat steps 2-3 until the target value is found or the pointers l and r cross over each other. If the pointers cross over each other, the target value is not in the array and the search is unsuccessful."
   ]
  },
  {
   "cell_type": "code",
   "execution_count": 11,
   "metadata": {},
   "outputs": [],
   "source": [
    "def binary_search(elements, target):\n",
    "    l, r = 0, len(elements)-1\n",
    "    while l <= r:\n",
    "        m = (l+r)//2\n",
    "        if elements[m] == target:\n",
    "            return elements[m], m\n",
    "\n",
    "        elif elements[m] < target:\n",
    "            l = m +1\n",
    "        else:\n",
    "            r = m -1\n",
    "\n",
    "    return -1"
   ]
  },
  {
   "cell_type": "code",
   "execution_count": null,
   "metadata": {},
   "outputs": [],
   "source": [
    "print(elements)\n",
    "print(binary_search(elements, 7500))"
   ]
  },
  {
   "attachments": {},
   "cell_type": "markdown",
   "metadata": {},
   "source": [
    "Here's an example of how binary search works, assuming we are searching for the target value 5 in the following sorted array: [1, 2, 3, 4, 5, 6, 7, 8, 9]\n",
    "\n",
    "*    Set the left pointer (l) to the first element of the array (1) and the right pointer (r) to the last element of the array (9).\n",
    "*    Compute the middle index using the formula m = (l + r) / 2, which gives m = (1 + 9) / 2 = 5.\n",
    "*    Compare the target value (5) with the middle element (array[5] = 6):\n",
    "*        Since 5 is less than 6, ignore the right half of the array and repeat step 2 with the left half of the array (indices 1 to 4).\n",
    "*    Compute the new middle index using the formula m = (l + r) / 2, which gives m = (1 + 4) / 2 = 2.\n",
    "*    Compare the target value (5) with the middle element (array[2] = 3):\n",
    "*        Since 5 is greater than 3, ignore the left half of the array and repeat step 2 with the right half of the array (indices 3 to 4).\n",
    "*    Compute the new middle index using the formula m = (l + r) / 2, which gives m = (3 + 4) / 2 = 3.\n",
    "*    Compare the target value (5) with the middle element (array[3] = 4):\n",
    "*        Since 5 is greater than 4, ignore the left half of the array and repeat step 2 with the right half of the array (indices 4 to 4).\n",
    "*    Compute the new middle index using the formula m = (l + r) / 2, which gives m = (4 + 4) / 2 = 4.\n",
    "*    Compare the target value (5) with the middle element (array[4] = 5):\n",
    "*        Since 5 is equal to 5, the search is successful and the position of the target value (index 4) is returned."
   ]
  },
  {
   "attachments": {},
   "cell_type": "markdown",
   "metadata": {},
   "source": [
    "In this example, binary search found the position of the target value (5) in four iterations of the algorithm. The time complexity of binary search is O(log n), which is much faster than linear search (O(n))"
   ]
  }
 ],
 "metadata": {
  "kernelspec": {
   "display_name": "Python 3",
   "language": "python",
   "name": "python3"
  },
  "language_info": {
   "codemirror_mode": {
    "name": "ipython",
    "version": 3
   },
   "file_extension": ".py",
   "mimetype": "text/x-python",
   "name": "python",
   "nbconvert_exporter": "python",
   "pygments_lexer": "ipython3",
   "version": "3.9.13"
  },
  "orig_nbformat": 4,
  "vscode": {
   "interpreter": {
    "hash": "0c5ab5b7dd28a9699fdc040a259e90886b29cf61f0f6cfd5f29670318f0516d6"
   }
  }
 },
 "nbformat": 4,
 "nbformat_minor": 2
}
