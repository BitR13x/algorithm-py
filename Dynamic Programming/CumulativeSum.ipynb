{
 "cells": [
  {
   "attachments": {},
   "cell_type": "markdown",
   "metadata": {},
   "source": [
    "a prefix sum algorithm is a technique used to calculate the cumulative sum of an array. It can be used in various algorithms to perform tasks like searching, sorting, and string matching.\n",
    "\n",
    "The prefix sum algorithm is also known as a cumulative sum algorithm. The idea behind this algorithm is to precompute prefix sums of an array so that we can answer range queries efficiently.\n"
   ]
  },
  {
   "attachments": {},
   "cell_type": "markdown",
   "metadata": {},
   "source": [
    "1. Declare an array prefixSum of size n with all its entries initialized to 0.\n",
    "2. Assign a[0] to prefixSum[0].\n",
    "3. Iterate from i = 1 to i = n - 1 and do the following:\n",
    "    * Store the value of prefixSum[i-1] in a variable (say prev).\n",
    "    * Assign the value prev + a[i] to prefixSum[i].\n",
    "4. Return prefixSum"
   ]
  },
  {
   "cell_type": "code",
   "execution_count": null,
   "metadata": {},
   "outputs": [],
   "source": [
    "def prefix_sum(elements: list[int]) -> list[int]:\n",
    "    n = len(elements)\n",
    "    prefixSum = [0] * n\n",
    "    prefixSum[0] = elements[0]\n",
    "    for i in range(1, n):\n",
    "        prev = prefixSum[i-1]\n",
    "        prefixSum[i] = prev + elements[i]\n",
    "    return prefixSum"
   ]
  },
  {
   "attachments": {},
   "cell_type": "markdown",
   "metadata": {},
   "source": [
    "The main difference between prefix sum algorithm and suffix sum algorithm is that prefix sum computes the cumulative sum of an array from left to right while suffix sum computes it from right to left."
   ]
  },
  {
   "attachments": {},
   "cell_type": "markdown",
   "metadata": {},
   "source": [
    "1. Create an array of size n to store the suffix sum.\n",
    "2. Initialize the last element of the suffix sum array with the last element of the original array (suffixSum[n-1] = arr[n-1]).\n",
    "3. Traverse the original array from n-2 to 0 and do the following:\n",
    "    * For each index i find the suffix sum and store it at suffixSum[i].\n",
    "4. Return the computed suffix sum array."
   ]
  },
  {
   "cell_type": "code",
   "execution_count": null,
   "metadata": {},
   "outputs": [],
   "source": [
    "def suffix_sum(elements: list[int]) -> list[int]:\n",
    "    n = len(elements)\n",
    "    suffixSum = [0] * n\n",
    "    suffixSum[n-1] = elements[n-1]\n",
    "    for i in range(n-2, -1, -1):\n",
    "        suffixSum[i] = elements[i] + suffixSum[i+1]\n",
    "    return suffixSum"
   ]
  }
 ],
 "metadata": {
  "language_info": {
   "name": "python"
  },
  "orig_nbformat": 4
 },
 "nbformat": 4,
 "nbformat_minor": 2
}
